{
 "cells": [
  {
   "cell_type": "markdown",
   "id": "581a403f-a6d1-4504-b0ca-de92e139fd9d",
   "metadata": {
    "tags": []
   },
   "source": [
    "# Memory-conservant size-limited file read\n",
    "This is something I need from my job. I work on a test framework that runs test cases on our product, and that creates log messages. Sometimes we end up with lots of log data, enough to start filling up disk space and potentially crashing our test workers. So I want a queue-like thing with a file-like write method that happily accepts N bytes and passes them along for logging, and then anything after that, we just drop it on the floor."
   ]
  },
  {
   "cell_type": "code",
   "execution_count": 38,
   "id": "ff814701-d8f2-4e3b-be7f-0d84d7d4e1f2",
   "metadata": {
    "tags": []
   },
   "outputs": [
    {
     "name": "stdout",
     "output_type": "stream",
     "text": [
      "abcde\n",
      "abcd\n"
     ]
    }
   ],
   "source": [
    "import os\n",
    "import tempfile\n",
    "import subprocess\n",
    "from typing import Optional\n",
    "\n",
    "cmd = ['python3', 'helper.py', '5']\n",
    "\n",
    "\n",
    "def get_tempfile_name():\n",
    "    f = tempfile.NamedTemporaryFile()\n",
    "    name = f.name\n",
    "    f.close()\n",
    "    return name\n",
    "\n",
    "\n",
    "name = get_tempfile_name()\n",
    "output = open(name, \"wb\")\n",
    "assert output is not None\n",
    "p = subprocess.Popen(\n",
    "    cmd,\n",
    "    stdout=output,\n",
    "    stderr=output\n",
    ")\n",
    "while p.poll() is None:\n",
    "    pass\n",
    "\n",
    "\n",
    "def size_limited_file_read(f: str, n: int = -1) -> Optional[str]:\n",
    "    if not os.path.isfile(f):\n",
    "        logging.error(\"File {0} does not exist\".format(f))\n",
    "        return None\n",
    "    return open(f, \"r\").read(n)\n",
    "\n",
    "\n",
    "r = size_limited_file_read(name, 10)\n",
    "print(r)"
   ]
  },
  {
   "cell_type": "code",
   "execution_count": null,
   "id": "c27b70b9-d4ef-46ba-ba7f-d6980b32ba27",
   "metadata": {},
   "outputs": [],
   "source": []
  }
 ],
 "metadata": {
  "kernelspec": {
   "display_name": "Python 3 (ipykernel)",
   "language": "python",
   "name": "python3"
  },
  "language_info": {
   "codemirror_mode": {
    "name": "ipython",
    "version": 3
   },
   "file_extension": ".py",
   "mimetype": "text/x-python",
   "name": "python",
   "nbconvert_exporter": "python",
   "pygments_lexer": "ipython3",
   "version": "3.10.11"
  }
 },
 "nbformat": 4,
 "nbformat_minor": 5
}
