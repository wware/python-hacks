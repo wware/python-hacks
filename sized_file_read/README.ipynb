{
 "cells": [
  {
   "cell_type": "markdown",
   "id": "581a403f-a6d1-4504-b0ca-de92e139fd9d",
   "metadata": {
    "tags": []
   },
   "source": [
    "# Memory-conservant size-limited file read\n",
    "This is something I need from my job. I work on a test framework that runs test cases on our product, and that creates log messages. Sometimes we end up with lots of log data, enough to start filling up disk space and potentially crashing our test workers. So I want a queue-like thing with a file-like write method that happily accepts N bytes and passes them along for logging, and then anything after that, we just drop it on the floor."
   ]
  },
  {
   "cell_type": "code",
   "execution_count": 30,
   "id": "ff814701-d8f2-4e3b-be7f-0d84d7d4e1f2",
   "metadata": {
    "tags": []
   },
   "outputs": [
    {
     "name": "stdout",
     "output_type": "stream",
     "text": [
      "8\n",
      "abcde\n",
      "2\n",
      "ab0\n",
      "0\n",
      "0\n",
      "\n"
     ]
    }
   ],
   "source": [
    "import os\n",
    "import tempfile\n",
    "\n",
    "\n",
    "def noisy_source(output):\n",
    "    # something like subprocess.Popen(...cmd..., output=output)\n",
    "    assert output is not None\n",
    "    for _ in range(5):\n",
    "        output.write(\"abcde\\n\")\n",
    "\n",
    "\n",
    "def get_tempfile_name():\n",
    "    f = tempfile.NamedTemporaryFile()\n",
    "    name = f.name\n",
    "    f.close()\n",
    "    return name\n",
    "\n",
    "\n",
    "class LimitedPassthrough(object):\n",
    "    def __init__(self, fn, limit):\n",
    "        assert isinstance(fn, str), fn\n",
    "        assert isinstance(limit, int), limit\n",
    "        self.fn = fn\n",
    "        self.limit = limit\n",
    "        self._fileno = None\n",
    "    def __enter__(self):\n",
    "        self.f = f = open(self.fn, 'wb')\n",
    "        self._fileno = f.fileno()\n",
    "        return self\n",
    "    def fileno(self):\n",
    "        return self._fileno\n",
    "    def write(self, x):\n",
    "        self.f.write(f\"{self.limit}\\n\".encode(\"utf-8\"))\n",
    "        x = x[:self.limit]\n",
    "        self.limit -= len(x)\n",
    "        self.f.write(x.encode(\"utf-8\"))\n",
    "    def __exit__(self, e1, e2, e3):\n",
    "        assert e1 is None, (e1, e2, e3)\n",
    "        # close after writing then reopen for reaading\n",
    "        self.f.close()\n",
    "        self.f = open(self.fn)\n",
    "    def read(self):\n",
    "        return self.f.read()\n",
    "    def delete(self):\n",
    "        try:\n",
    "            self.f.close()\n",
    "        except:\n",
    "            pass\n",
    "        os.unlink(self.fn)\n",
    "        \n",
    "\n",
    "SIX_BYTES = \"abcde\\n\"\n",
    "ACCEPT_JUST_A_FEW_BYTES = 8\n",
    "name = get_tempfile_name()\n",
    "with LimitedPassthrough(name, ACCEPT_JUST_A_FEW_BYTES) as output:\n",
    "    assert output is not None\n",
    "    for _ in range(5):\n",
    "        output.write(SIX_BYTES)\n",
    "print(output.read())\n",
    "output.delete()"
   ]
  },
  {
   "cell_type": "markdown",
   "id": "df058dbc-346d-4cc6-93dc-5fea04b27d61",
   "metadata": {},
   "source": [
    "This looks pretty good so far but let's make it closer to the actual use case I really need."
   ]
  },
  {
   "cell_type": "code",
   "execution_count": 32,
   "id": "0ca3ac51-dd3a-4c30-926e-6921601743f4",
   "metadata": {
    "tags": []
   },
   "outputs": [
    {
     "name": "stdout",
     "output_type": "stream",
     "text": [
      "cat /tmp/tmp26nebruq\n",
      "abcde\n",
      "abcde\n",
      "abcde\n",
      "abcde\n",
      "abcde\n"
     ]
    },
    {
     "data": {
      "text/plain": [
       "0"
      ]
     },
     "execution_count": 32,
     "metadata": {},
     "output_type": "execute_result"
    }
   ],
   "source": [
    "import subprocess\n",
    "\n",
    "cmd = ['python3', 'helper.py', '5']\n",
    "\n",
    "with LimitedPassthrough(name, ACCEPT_JUST_A_FEW_BYTES) as output:\n",
    "    assert output is not None\n",
    "    p = subprocess.Popen(\n",
    "        cmd,\n",
    "        stdout=output,\n",
    "        stderr=output\n",
    "    )\n",
    "while p.poll() is None:\n",
    "    pass\n",
    "# print(output.read())\n",
    "# print(output.fn)\n",
    "cmd = f\"cat {output.fn}\"\n",
    "print(cmd)\n",
    "os.system(cmd)"
   ]
  },
  {
   "cell_type": "code",
   "execution_count": null,
   "id": "7811ba76-f40f-4157-93ce-f6a6e189c857",
   "metadata": {},
   "outputs": [],
   "source": []
  }
 ],
 "metadata": {
  "kernelspec": {
   "display_name": "Python 3 (ipykernel)",
   "language": "python",
   "name": "python3"
  },
  "language_info": {
   "codemirror_mode": {
    "name": "ipython",
    "version": 3
   },
   "file_extension": ".py",
   "mimetype": "text/x-python",
   "name": "python",
   "nbconvert_exporter": "python",
   "pygments_lexer": "ipython3",
   "version": "3.10.11"
  }
 },
 "nbformat": 4,
 "nbformat_minor": 5
}
