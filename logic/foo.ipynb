{
 "cells": [
  {
   "cell_type": "markdown",
   "id": "a5730e91",
   "metadata": {},
   "source": [
    "# Yo yo yo\n",
    "Logic stuff"
   ]
  },
  {
   "cell_type": "code",
   "execution_count": 1,
   "id": "612cf7a8",
   "metadata": {},
   "outputs": [
    {
     "name": "stdout",
     "output_type": "stream",
     "text": [
      "(0, 0, 0)\n",
      "(0, 0, 1)\n"
     ]
    }
   ],
   "source": [
    "X = object()   # indeterminate\n",
    "\n",
    "\n",
    "def bw(u):\n",
    "    if u is X:\n",
    "        return X\n",
    "    return 1 if u else 0\n",
    "\n",
    "\n",
    "def bv(x, y, outcomes):\n",
    "    def f(u):\n",
    "        u = bw(u)\n",
    "        return 2 if u is X else u\n",
    "    return LVar(outcomes[f(x) + 3 * f(y)])\n",
    "\n",
    "\n",
    "class LVar(object):\n",
    "    def __init__(self, value=X):\n",
    "        self.value = bw(value)\n",
    "    def __or__(self, other):\n",
    "        return bv(\n",
    "            self.value, other.value,\n",
    "            [0,1,X,1,1,1,X,1,X]\n",
    "        )\n",
    "    def __and__(self, other):\n",
    "        return bv(\n",
    "            self.value, other.value,\n",
    "            [0,0,0,0,1,X,0,X,X]\n",
    "        )\n",
    "    def __invert__(self):\n",
    "        return bv(\n",
    "            self.value, 0,\n",
    "            [1,0,X]\n",
    "        )\n",
    "    def __bool__(self):\n",
    "        return not (not self.value)\n",
    "    def __repr__(self):\n",
    "        return (\"X\" if self.value is X\n",
    "                     else repr(self.value))\n",
    "    def __eq__(self, other):\n",
    "        if not isinstance(other, LVar):\n",
    "            return self.value == bw(other)\n",
    "        return self.value == other.value\n",
    "    @classmethod\n",
    "    def enum(cls, n):\n",
    "        u, v = (cls(0),), (cls(1),)\n",
    "        if n == 1:\n",
    "            return [u, v]\n",
    "        x = cls.enum(n - 1)\n",
    "        return [u + z for z in x] + [v+z for z in x]\n",
    "\n",
    "    @classmethod\n",
    "    def solve(cls, f):\n",
    "        n = f.__code__.co_argcount\n",
    "        satisfiable = False\n",
    "        for args in LVar.enum(n):\n",
    "            if f(*args):\n",
    "                print(args)\n",
    "                satisfiable = True\n",
    "        if not satisfiable:\n",
    "            print(\"Unsatisfiable\")\n",
    "\n",
    "def implies(u, v):\n",
    "    return ~u | v\n",
    "\n",
    "# ========================\n",
    "# Application\n",
    "\n",
    "def f(p, q, r):\n",
    "    return all([\n",
    "        # facts\n",
    "        implies(p, q),\n",
    "        ~q\n",
    "        # what about rules?\n",
    "    ])\n",
    "\n",
    "LVar.solve(f)"
   ]
  },
  {
   "cell_type": "code",
   "execution_count": null,
   "id": "e859d756",
   "metadata": {},
   "outputs": [],
   "source": []
  }
 ],
 "metadata": {
  "kernelspec": {
   "display_name": "Python 3 (ipykernel)",
   "language": "python",
   "name": "python3"
  },
  "language_info": {
   "codemirror_mode": {
    "name": "ipython",
    "version": 3
   },
   "file_extension": ".py",
   "mimetype": "text/x-python",
   "name": "python",
   "nbconvert_exporter": "python",
   "pygments_lexer": "ipython3",
   "version": "3.9.7"
  }
 },
 "nbformat": 4,
 "nbformat_minor": 5
}
